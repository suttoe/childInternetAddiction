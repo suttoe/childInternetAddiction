{
 "cells": [
  {
   "cell_type": "markdown",
   "metadata": {},
   "source": [
    "# Train and Test the Training Data!\n",
    "As we discovered in the exploration phase, the kids with an sii score all have taken a questionaire and have had their score taken from that, which leaves the rest of the training data with the kids that don't have sii as they didn't take questionaire or rather their parents did not.<br>\n",
    "As such we are left with a real training set of 2736 which is not huge, so we'll use cross-validation. <br>\n",
    "Instinct is to use a nearest neighbours approach, so let's see how that goes."
   ]
  },
  {
   "cell_type": "code",
   "execution_count": 2,
   "metadata": {},
   "outputs": [],
   "source": [
    "#set up\n",
    "import polars as pl\n",
    "import plotly.express as px\n",
    "from sklearn.model_selection import train_test_split\n",
    "from sklearn.neighbors import KNeighborsClassifier\n",
    "from sklearn.metrics import accuracy_score\n",
    "\n",
    "\n",
    "pl.Config.set_tbl_rows(50);\n",
    "pl.Config.set_tbl_width_chars(300);\n",
    "pl.Config.set_tbl_cols(90);"
   ]
  },
  {
   "cell_type": "code",
   "execution_count": 7,
   "metadata": {},
   "outputs": [],
   "source": [
    "data = pl.read_csv('data/train.csv')\n",
    "#seperate out into training and testing\n",
    "test = data.filter(pl.col('sii').is_null()).fill_null(-1).fill_null(\"None\")\n",
    "#Remove the questionaire columns form training\n",
    "dropCol = [col for col in data.columns if \"PCIAT\" in col or \"Season\" in col]\n",
    "#dropSeasonCol = [col for col in data.columns if \"Season\" in col]\n",
    "train = data.filter(pl.col('sii').is_not_null()).drop(dropCol).fill_null(-1).fill_null(\"None\")"
   ]
  },
  {
   "cell_type": "markdown",
   "metadata": {},
   "source": [
    "## KNN: Optimal value of K"
   ]
  },
  {
   "cell_type": "code",
   "execution_count": 16,
   "metadata": {},
   "outputs": [],
   "source": [
    "# Split the data into training and testing sets\n",
    "Xtrain, Xtest, ytrain, ytest = train_test_split(train.drop('id','sii'), train.select('sii').to_numpy().flatten(), test_size=0.2, random_state=42)\n",
    "\n",
    "# Define a range of k values to test\n",
    "kValues = list(range(3,30))\n",
    "\n",
    "#Dict to record testing in\n",
    "kValueDict = {}\n",
    "\n",
    "# Train and visualize the models with varying k values\n",
    "for k in kValues:\n",
    "    # Create KNN model\n",
    "    knn = KNeighborsClassifier(n_neighbors=k)\n",
    "\n",
    "    # Train the model\n",
    "    knn.fit(Xtrain, ytrain)\n",
    "\n",
    "    # Make predictions\n",
    "    ypred = knn.predict(Xtest)\n",
    "\n",
    "    # Calculate accuracy\n",
    "    accuracy = accuracy_score(ytest, ypred)\n",
    "\n",
    "    kValueDict[k] = accuracy\n",
    "\n"
   ]
  },
  {
   "cell_type": "code",
   "execution_count": 17,
   "metadata": {},
   "outputs": [
    {
     "data": {
      "text/plain": [
       "{3: 0.551094890510949,\n",
       " 4: 0.5748175182481752,\n",
       " 5: 0.5875912408759124,\n",
       " 6: 0.5948905109489051,\n",
       " 7: 0.5748175182481752,\n",
       " 8: 0.5784671532846716,\n",
       " 9: 0.5748175182481752,\n",
       " 10: 0.5711678832116789,\n",
       " 11: 0.5693430656934306,\n",
       " 12: 0.5802919708029197,\n",
       " 13: 0.5656934306569343,\n",
       " 14: 0.5748175182481752,\n",
       " 15: 0.5912408759124088,\n",
       " 16: 0.593065693430657,\n",
       " 17: 0.5912408759124088,\n",
       " 18: 0.5967153284671532,\n",
       " 19: 0.6040145985401459,\n",
       " 20: 0.5894160583941606,\n",
       " 21: 0.5857664233576643,\n",
       " 22: 0.5784671532846716,\n",
       " 23: 0.5857664233576643,\n",
       " 24: 0.5875912408759124,\n",
       " 25: 0.583941605839416,\n",
       " 26: 0.583941605839416,\n",
       " 27: 0.5894160583941606,\n",
       " 28: 0.5802919708029197,\n",
       " 29: 0.593065693430657}"
      ]
     },
     "execution_count": 17,
     "metadata": {},
     "output_type": "execute_result"
    }
   ],
   "source": [
    "kValueDict"
   ]
  },
  {
   "cell_type": "code",
   "execution_count": null,
   "metadata": {},
   "outputs": [],
   "source": []
  }
 ],
 "metadata": {
  "kernelspec": {
   "display_name": "base",
   "language": "python",
   "name": "python3"
  },
  "language_info": {
   "codemirror_mode": {
    "name": "ipython",
    "version": 3
   },
   "file_extension": ".py",
   "mimetype": "text/x-python",
   "name": "python",
   "nbconvert_exporter": "python",
   "pygments_lexer": "ipython3",
   "version": "3.10.13"
  }
 },
 "nbformat": 4,
 "nbformat_minor": 2
}
